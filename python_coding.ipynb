{
  "nbformat": 4,
  "nbformat_minor": 0,
  "metadata": {
    "colab": {
      "provenance": [],
      "authorship_tag": "ABX9TyOCPWZk/w8DnbvWq4u3vX0X",
      "include_colab_link": true
    },
    "kernelspec": {
      "name": "python3",
      "display_name": "Python 3"
    },
    "language_info": {
      "name": "python"
    }
  },
  "cells": [
    {
      "cell_type": "markdown",
      "metadata": {
        "id": "view-in-github",
        "colab_type": "text"
      },
      "source": [
        "<a href=\"https://colab.research.google.com/github/fabina-thasni/python-interview-questions/blob/main/python_coding.ipynb\" target=\"_parent\"><img src=\"https://colab.research.google.com/assets/colab-badge.svg\" alt=\"Open In Colab\"/></a>"
      ]
    },
    {
      "cell_type": "code",
      "execution_count": null,
      "metadata": {
        "colab": {
          "base_uri": "https://localhost:8080/"
        },
        "id": "Edmi9gpU4IRB",
        "outputId": "0265d8b5-7daf-47fe-d6eb-63e3794678d5"
      },
      "outputs": [
        {
          "output_type": "stream",
          "name": "stdout",
          "text": [
            "34\n"
          ]
        }
      ],
      "source": [
        "#1-write the maximum of 2 numbers.\n",
        "a=12\n",
        "b=34\n",
        "print(max(a,b))\n"
      ]
    },
    {
      "cell_type": "code",
      "source": [],
      "metadata": {
        "id": "zjDFQf0_My7E"
      },
      "execution_count": null,
      "outputs": []
    },
    {
      "cell_type": "code",
      "source": [
        "#2-write a program to swap 2 variables.\n",
        "a='welcome'\n",
        "b='codeme'\n",
        "a,b=b,a\n",
        "print(a)\n",
        "print(b)\n"
      ],
      "metadata": {
        "colab": {
          "base_uri": "https://localhost:8080/"
        },
        "id": "456p1BCrQjq-",
        "outputId": "3fe99716-70aa-4aff-ac1a-db2902211d2d"
      },
      "execution_count": null,
      "outputs": [
        {
          "output_type": "stream",
          "name": "stdout",
          "text": [
            "codeme\n",
            "welcome\n"
          ]
        }
      ]
    },
    {
      "cell_type": "code",
      "source": [
        "#3-add two numbers and print result.\n",
        "a=int(input(\"enter the number\"))\n",
        "b=int(input(\"enter the number\"))\n",
        "print(a+b)"
      ],
      "metadata": {
        "colab": {
          "base_uri": "https://localhost:8080/"
        },
        "id": "ZDLHQ0QCRgIi",
        "outputId": "c4deaa38-98da-451d-91a0-0434de9c740b"
      },
      "execution_count": null,
      "outputs": [
        {
          "output_type": "stream",
          "name": "stdout",
          "text": [
            "enter the number5\n",
            "enter the number67\n",
            "72\n"
          ]
        }
      ]
    },
    {
      "cell_type": "code",
      "source": [
        "#4-all even numbers between 1 and 100\n",
        "for i in range(1,101):\n",
        "  if i%2==0:\n",
        "    print(i)"
      ],
      "metadata": {
        "colab": {
          "base_uri": "https://localhost:8080/"
        },
        "id": "6CV-v-XySLrZ",
        "outputId": "c94b3b94-609e-4247-b2cd-03b94f5a7bd4"
      },
      "execution_count": null,
      "outputs": [
        {
          "output_type": "stream",
          "name": "stdout",
          "text": [
            "2\n",
            "4\n",
            "6\n",
            "8\n",
            "10\n",
            "12\n",
            "14\n",
            "16\n",
            "18\n",
            "20\n",
            "22\n",
            "24\n",
            "26\n",
            "28\n",
            "30\n",
            "32\n",
            "34\n",
            "36\n",
            "38\n",
            "40\n",
            "42\n",
            "44\n",
            "46\n",
            "48\n",
            "50\n",
            "52\n",
            "54\n",
            "56\n",
            "58\n",
            "60\n",
            "62\n",
            "64\n",
            "66\n",
            "68\n",
            "70\n",
            "72\n",
            "74\n",
            "76\n",
            "78\n",
            "80\n",
            "82\n",
            "84\n",
            "86\n",
            "88\n",
            "90\n",
            "92\n",
            "94\n",
            "96\n",
            "98\n",
            "100\n"
          ]
        }
      ]
    },
    {
      "cell_type": "code",
      "source": [
        "#5-calculate area of circle given its radious\n",
        "pi=3.14\n",
        "r=float(input(\"enter the radious\"))\n",
        "area=pi*r**2\n",
        "print(area)"
      ],
      "metadata": {
        "colab": {
          "base_uri": "https://localhost:8080/"
        },
        "id": "MJ9Q3PinSvmb",
        "outputId": "259740df-3e05-4356-a968-a5c9787eee75"
      },
      "execution_count": null,
      "outputs": [
        {
          "output_type": "stream",
          "name": "stdout",
          "text": [
            "enter the radious5\n",
            "78.5\n"
          ]
        }
      ]
    },
    {
      "cell_type": "code",
      "source": [
        "#6-find maximum of 2 numbers.\n",
        "a=23\n",
        "b=56\n",
        "print(max(a,b))"
      ],
      "metadata": {
        "colab": {
          "base_uri": "https://localhost:8080/"
        },
        "id": "9OHECAR-Tb-g",
        "outputId": "7605ac38-6fc6-4fef-9b54-6323030e5586"
      },
      "execution_count": null,
      "outputs": [
        {
          "output_type": "stream",
          "name": "stdout",
          "text": [
            "56\n"
          ]
        }
      ]
    },
    {
      "cell_type": "code",
      "source": [
        "#7-find the sum of all numbers in a list'\n",
        "list1=[1,2,3,4,5,6,7,8,9]\n",
        "print(sum(list1))"
      ],
      "metadata": {
        "colab": {
          "base_uri": "https://localhost:8080/"
        },
        "id": "_uFV9sPu5kzR",
        "outputId": "3380e9a6-caa4-42b2-eb88-c8cc4e7863ec"
      },
      "execution_count": null,
      "outputs": [
        {
          "output_type": "stream",
          "name": "stdout",
          "text": [
            "45\n"
          ]
        }
      ]
    },
    {
      "cell_type": "code",
      "source": [
        "#8-find the second largest number in a list.\n",
        "mark=[23,45,56,78,89,65,43]\n",
        "mark.sort()\n",
        "print(mark[-2])\n",
        "\n"
      ],
      "metadata": {
        "colab": {
          "base_uri": "https://localhost:8080/"
        },
        "id": "Wh8Et63p58Wi",
        "outputId": "b95a61c5-c77a-4b26-e1c9-f15662455529"
      },
      "execution_count": null,
      "outputs": [
        {
          "output_type": "stream",
          "name": "stdout",
          "text": [
            "78\n"
          ]
        }
      ]
    },
    {
      "cell_type": "code",
      "source": [
        "#9-write a function takes a numberas an argument and returns its square.\n",
        "def squarednumber(num):\n",
        "  return num**2\n",
        "result=squarednumber(25)\n",
        "print(result)\n"
      ],
      "metadata": {
        "colab": {
          "base_uri": "https://localhost:8080/"
        },
        "id": "C8aczk4z8htE",
        "outputId": "5e04e638-3ee2-44c6-97f1-cf9f8a8b4f86"
      },
      "execution_count": null,
      "outputs": [
        {
          "output_type": "stream",
          "name": "stdout",
          "text": [
            "625\n"
          ]
        }
      ]
    },
    {
      "cell_type": "code",
      "source": [
        "#10-write a program to count the number of vowels in a string.\n",
        "a=\"welcome to codeme hub\"\n",
        "v=['a','e','i','o','u','A','E','I','O','U']\n",
        "count=0\n",
        "for char in a:\n",
        "  if char in v:\n",
        "    count+=1\n",
        "print(count)\n"
      ],
      "metadata": {
        "colab": {
          "base_uri": "https://localhost:8080/"
        },
        "id": "77kwEJQMCLbQ",
        "outputId": "f65a0426-2b73-4f4a-c1a9-32067e676600"
      },
      "execution_count": null,
      "outputs": [
        {
          "output_type": "stream",
          "name": "stdout",
          "text": [
            "8\n"
          ]
        }
      ]
    },
    {
      "cell_type": "code",
      "source": [
        "#11-write a program to sort a list of numbers in ascending orders.\n",
        "mark=[56,45,78,98,58,69]\n",
        "mark.sort()\n",
        "print(mark)"
      ],
      "metadata": {
        "colab": {
          "base_uri": "https://localhost:8080/"
        },
        "id": "gq8wdvDXF2ld",
        "outputId": "9b514295-d3c7-449d-c842-fa2b4a224bb9"
      },
      "execution_count": null,
      "outputs": [
        {
          "output_type": "stream",
          "name": "stdout",
          "text": [
            "[45, 56, 58, 69, 78, 98]\n"
          ]
        }
      ]
    },
    {
      "cell_type": "code",
      "source": [],
      "metadata": {
        "id": "esdhqtECKYyr"
      },
      "execution_count": null,
      "outputs": []
    },
    {
      "cell_type": "code",
      "source": [
        "#12-to find the sum of first n natural numbers.\n",
        "n=int(input(\"enter the limit\"))\n",
        "sum=0\n",
        "for i in range(n):\n",
        "  sum+=i\n",
        "print(sum)\n"
      ],
      "metadata": {
        "colab": {
          "base_uri": "https://localhost:8080/"
        },
        "id": "dURBqKWYG4wo",
        "outputId": "52b5f915-2460-44a7-ad9e-1ac43d0fa55e"
      },
      "execution_count": null,
      "outputs": [
        {
          "output_type": "stream",
          "name": "stdout",
          "text": [
            "enter the limit15\n",
            "105\n"
          ]
        }
      ]
    },
    {
      "cell_type": "code",
      "source": [
        "#13-find the intersection of 2 sets.\n",
        "set1={1,2,3,4,5,6,7,8}\n",
        "set2={7,8,9,6,5,10,11,12}\n",
        "intersection=set1.intersection(set2)\n",
        "print(intersection)\n"
      ],
      "metadata": {
        "colab": {
          "base_uri": "https://localhost:8080/"
        },
        "id": "QGdWjeYjK7IE",
        "outputId": "74b4d76c-fa14-4eb1-f3a9-7c586f682d59"
      },
      "execution_count": null,
      "outputs": [
        {
          "output_type": "stream",
          "name": "stdout",
          "text": [
            "{8, 5, 6, 7}\n"
          ]
        }
      ]
    },
    {
      "cell_type": "code",
      "source": [
        "#14-write a program that asks the user for their name and print a greeting message with their name.\n",
        "name=input(\"enter the name\")\n",
        "print(f\"hi {name} good morning,how are you?\")"
      ],
      "metadata": {
        "colab": {
          "base_uri": "https://localhost:8080/"
        },
        "id": "UzLYRLHkMuQZ",
        "outputId": "924ca9eb-bb88-4813-8104-f9b71ee87d4d"
      },
      "execution_count": null,
      "outputs": [
        {
          "output_type": "stream",
          "name": "stdout",
          "text": [
            "enter the namefabina\n",
            "hi fabina good morning,how are you?\n"
          ]
        }
      ]
    },
    {
      "cell_type": "code",
      "source": [
        "#15-check if a given number is even or odd '\n",
        "num=int(input(\"enter the num\"))\n",
        "if num%2==0:\n",
        "  print(\"it is a even number\")\n",
        "else:\n",
        "    print(\"it is a odd\")\n"
      ],
      "metadata": {
        "colab": {
          "base_uri": "https://localhost:8080/"
        },
        "id": "hXYoOSwzOkgC",
        "outputId": "e6274d13-452e-450d-f433-977ccc3bff54"
      },
      "execution_count": null,
      "outputs": [
        {
          "output_type": "stream",
          "name": "stdout",
          "text": [
            "enter the num23\n",
            "it is a odd\n"
          ]
        }
      ]
    },
    {
      "cell_type": "code",
      "source": [
        "#16-create a list of 5 fruits and print the list.\n",
        "fruits=[]\n",
        "for i in range(5):\n",
        "   fruit=input(\"enter the fruit name\")\n",
        "   fruits.append(fruit)\n",
        "print(fruits)"
      ],
      "metadata": {
        "colab": {
          "base_uri": "https://localhost:8080/"
        },
        "id": "PpB0-m9OPiz1",
        "outputId": "726f8f06-216d-4045-af34-af03b7397d29"
      },
      "execution_count": null,
      "outputs": [
        {
          "output_type": "stream",
          "name": "stdout",
          "text": [
            "enter the fruit namebanana\n",
            "enter the fruit namestrawberry\n",
            "enter the fruit namegrapes\n",
            "enter the fruit nameapple\n",
            "enter the fruit nameorange\n",
            "['banana', 'strawberry', 'grapes', 'apple', 'orange']\n"
          ]
        }
      ]
    },
    {
      "cell_type": "code",
      "source": [
        "#17-find the common elements in two lists.\n",
        "list1=[1,2,3,4,5,6]\n",
        "list2=[4,5,6,7,8,9]\n",
        "set1=set(list1)\n",
        "set2=set(list2)\n",
        "common_elements=set1.intersection(set2)\n",
        "print(common_elements)"
      ],
      "metadata": {
        "colab": {
          "base_uri": "https://localhost:8080/"
        },
        "id": "iG5t8tDlSBfB",
        "outputId": "3f38cac8-9567-4565-8e26-d6f04fddf63f"
      },
      "execution_count": null,
      "outputs": [
        {
          "output_type": "stream",
          "name": "stdout",
          "text": [
            "{4, 5, 6}\n"
          ]
        }
      ]
    },
    {
      "cell_type": "code",
      "source": [
        "#18-write a program that asks the user for list of numbers and then prints the average of those numbers.\n",
        "list1=[]\n",
        "sum=0\n",
        "num=0\n",
        "limit=int(input(\"enter the limit\"))\n",
        "while limit>0:\n",
        "  new=int(input(\"enter your number\"))\n",
        "  list1.append(new)\n",
        "  limit-=1\n",
        "  sum=sum+list1[num]\n",
        "  num+=1\n",
        "  avg=sum/len(list1)\n",
        "print(avg)\n"
      ],
      "metadata": {
        "colab": {
          "base_uri": "https://localhost:8080/"
        },
        "id": "P-TezuHtaYkT",
        "outputId": "6c001e5d-98be-45b3-fd1e-3d6faf19b9a0"
      },
      "execution_count": null,
      "outputs": [
        {
          "output_type": "stream",
          "name": "stdout",
          "text": [
            "enter the limit4\n",
            "enter your number23\n",
            "enter your number54\n",
            "enter your number27\n",
            "enter your number45\n",
            "37.25\n"
          ]
        }
      ]
    },
    {
      "cell_type": "code",
      "source": [
        "#19-write a function to add 2 numbers\n",
        "def add(a,b):\n",
        "  return a+b\n",
        "add(23,56)\n"
      ],
      "metadata": {
        "colab": {
          "base_uri": "https://localhost:8080/"
        },
        "id": "9NJDniSehnD9",
        "outputId": "8222da4d-a2e2-4292-88bb-61c8618d61ef"
      },
      "execution_count": null,
      "outputs": [
        {
          "output_type": "execute_result",
          "data": {
            "text/plain": [
              "79"
            ]
          },
          "metadata": {},
          "execution_count": 23
        }
      ]
    },
    {
      "cell_type": "code",
      "source": [
        "#20-write a program to calculate and print the sum of a list of numbers.\n",
        "list1=[]\n",
        "sum=0\n",
        "num=0\n",
        "limit=int(input(\"enter the limit\"))\n",
        "while limit>0:\n",
        " new=int(input(\"enter the number\"))\n",
        " list1.append(new)\n",
        " limit-=1\n",
        " sum=sum+list1[num]\n",
        " num+=1\n",
        "print(\"sum of all items in a list\",sum)\n",
        "\n"
      ],
      "metadata": {
        "id": "s5FeRD9hq1M8",
        "colab": {
          "base_uri": "https://localhost:8080/"
        },
        "outputId": "bb7e9b14-ae2f-4503-8991-f4426b6265f8"
      },
      "execution_count": null,
      "outputs": [
        {
          "output_type": "stream",
          "name": "stdout",
          "text": [
            "enter the limit3\n",
            "enter the number12\n",
            "enter the number23\n",
            "enter the number13\n",
            "sum of all items in a list 48\n"
          ]
        }
      ]
    },
    {
      "cell_type": "code",
      "source": [
        "#21-write a program that creates a dictionary with three key-value pairs and prints it\n",
        "user_dict={}\n",
        "limit=3\n",
        "for i in range(limit):\n",
        "  key=input(\"enter the key\")\n",
        "  value=input(\"enter the value\")\n",
        "  user_dict[key]=value\n",
        "print(\"user_dict=\",user_dict)"
      ],
      "metadata": {
        "colab": {
          "base_uri": "https://localhost:8080/"
        },
        "id": "p6wb8EpgvLiq",
        "outputId": "533e3be5-da15-4a5c-c3b2-841b7fdfac10"
      },
      "execution_count": null,
      "outputs": [
        {
          "output_type": "stream",
          "name": "stdout",
          "text": [
            "enter the keyfabina\n",
            "enter the value2344567\n",
            "enter the keymalik\n",
            "enter the value23456\n",
            "enter the keymariyam\n",
            "enter the value45678\n",
            "user_dict= {'fabina': '2344567', 'malik': '23456', 'mariyam': '45678'}\n"
          ]
        }
      ]
    },
    {
      "cell_type": "code",
      "source": [
        "#22-write a program that prints numbers from 1 to 5 using a while loop\n",
        "num=1\n",
        "while num<6:\n",
        "  print(num)\n",
        "  num+=1\n",
        "print(\"program end\")\n"
      ],
      "metadata": {
        "colab": {
          "base_uri": "https://localhost:8080/"
        },
        "id": "YpJgo39i3FV4",
        "outputId": "e60decdd-d302-4774-9191-d067322d2cb2"
      },
      "execution_count": null,
      "outputs": [
        {
          "output_type": "stream",
          "name": "stdout",
          "text": [
            "1\n",
            "2\n",
            "3\n",
            "4\n",
            "5\n",
            "program end\n"
          ]
        }
      ]
    },
    {
      "cell_type": "code",
      "source": [
        "#23-write a program that asks the user for two numbers and prints their sum.\n",
        "num1=int(input(\"enter the first number \"))\n",
        "num2=int(input(\"enter the second number\"))\n",
        "sum=num1+num2\n",
        "print(sum)"
      ],
      "metadata": {
        "colab": {
          "base_uri": "https://localhost:8080/"
        },
        "id": "yL_obfYh306v",
        "outputId": "8ca5be8b-f7d8-4550-a648-218ad45275b5"
      },
      "execution_count": null,
      "outputs": [
        {
          "output_type": "stream",
          "name": "stdout",
          "text": [
            "enter the first number 23\n",
            "enter the second number6\n",
            "29\n"
          ]
        }
      ]
    },
    {
      "cell_type": "code",
      "source": [
        "#24-write a program prints first and last elements of a list\n",
        "price=[100,102,105,124,108,152]\n",
        "print(price[0])\n",
        "print(price[-1])\n"
      ],
      "metadata": {
        "colab": {
          "base_uri": "https://localhost:8080/"
        },
        "id": "Em2SW5LW6kzZ",
        "outputId": "bc304a70-c70c-4ec7-e1e2-ed255c936172"
      },
      "execution_count": null,
      "outputs": [
        {
          "output_type": "stream",
          "name": "stdout",
          "text": [
            "100\n",
            "152\n"
          ]
        }
      ]
    },
    {
      "cell_type": "code",
      "source": [
        "#25-write a program that concatenates(joins together)two strings and prints the result.\n",
        "x=\"hi fabina\"\n",
        "y=\"good morning\"\n",
        "print(x+ \",\"+y)\n"
      ],
      "metadata": {
        "colab": {
          "base_uri": "https://localhost:8080/"
        },
        "id": "v-XRJV_A7U09",
        "outputId": "84075de6-2c4c-4b06-d648-b59556fe6392"
      },
      "execution_count": null,
      "outputs": [
        {
          "output_type": "stream",
          "name": "stdout",
          "text": [
            "hi fabina,good morning\n"
          ]
        }
      ]
    },
    {
      "cell_type": "code",
      "source": [
        "#26-write a program that compares two numbers and prints which one is larger.\n",
        "num1=int(input(\"enter the first num\"))\n",
        "num2=int(input(\"enter the second num\"))\n",
        "if num1>num2:\n",
        "  print(f\"{num1},first number is larger\")\n",
        "else:\n",
        "  print(f\"{num2},second number is larger\")\n"
      ],
      "metadata": {
        "colab": {
          "base_uri": "https://localhost:8080/"
        },
        "id": "ywf9Tqaf92dO",
        "outputId": "f40b6515-d36b-4a58-a9c3-13054550c91d"
      },
      "execution_count": null,
      "outputs": [
        {
          "output_type": "stream",
          "name": "stdout",
          "text": [
            "enter the first num56\n",
            "enter the second num23\n",
            "56,first number is larger\n"
          ]
        }
      ]
    },
    {
      "cell_type": "code",
      "source": [
        "#26-write a programto generate a list of even numbers from 1 to 20.\n",
        "even_numbers=[]\n",
        "for i in range(1,21):\n",
        "  if i%2==0:\n",
        "    even_numbers.append(i)\n",
        "print(\"list of even numbers from 1 to 20:\",even_numbers)\n"
      ],
      "metadata": {
        "colab": {
          "base_uri": "https://localhost:8080/"
        },
        "id": "wXm_9n3m_xP_",
        "outputId": "3aa0a774-9247-4e8d-b0fb-5986bec93b48"
      },
      "execution_count": null,
      "outputs": [
        {
          "output_type": "stream",
          "name": "stdout",
          "text": [
            "list of even numbers from 1 to 20: [2, 4, 6, 8, 10, 12, 14, 16, 18, 20]\n"
          ]
        }
      ]
    },
    {
      "cell_type": "code",
      "source": [
        "#27write a function factorial that returns the factorial of a given number\n",
        "def factorial(n):\n",
        "  if n==0:\n",
        "    return 1\n",
        "  else:\n",
        "    return n*factorial(n-1)\n",
        "print(factorial(4))\n"
      ],
      "metadata": {
        "colab": {
          "base_uri": "https://localhost:8080/"
        },
        "id": "L7V2NgNTM2vM",
        "outputId": "146f941b-da40-48aa-aee8-28f97ac4ad45"
      },
      "execution_count": null,
      "outputs": [
        {
          "output_type": "stream",
          "name": "stdout",
          "text": [
            "24\n"
          ]
        }
      ]
    },
    {
      "cell_type": "code",
      "source": [
        "#28-write a function intersection that finds the intersection of two list\n",
        "def intersection(list1,list2):\n",
        "  set1=set(list1)\n",
        "  set2=set(list2)\n",
        "  intersect=set1.intersection(set2)\n",
        "  return list(intersect)\n",
        "list1=[1,2,3,4,5,6,7,8,9]\n",
        "list2=[4,5,6,7,8,9,10,11,12]\n",
        "print(intersection(list1,list2))\n",
        "\n"
      ],
      "metadata": {
        "id": "chpiM_8AgQYA",
        "colab": {
          "base_uri": "https://localhost:8080/"
        },
        "outputId": "a1fde839-30fb-4890-cc73-d7575ec921b5"
      },
      "execution_count": null,
      "outputs": [
        {
          "output_type": "stream",
          "name": "stdout",
          "text": [
            "[4, 5, 6, 7, 8, 9]\n"
          ]
        }
      ]
    },
    {
      "cell_type": "code",
      "source": [
        "#29-write a function squaresthat takes a list of integers and returns new list containing the squares of all even numbers from the orginal list using list comprehension.\n",
        "def squares(numbers):\n",
        "  return [i**2 for i in numbers if i%2==0]\n",
        "numbers=[22,23,24,25,26,27,28,29]\n",
        "print(squares(numbers))"
      ],
      "metadata": {
        "colab": {
          "base_uri": "https://localhost:8080/"
        },
        "id": "8Dnz_gH0tcwb",
        "outputId": "902fecee-f93c-4a4c-b545-144fa21676ea"
      },
      "execution_count": null,
      "outputs": [
        {
          "output_type": "stream",
          "name": "stdout",
          "text": [
            "[484, 576, 676, 784]\n"
          ]
        }
      ]
    },
    {
      "cell_type": "code",
      "source": [
        "#30-write a function double_numbers that takes a list of integers and returns new list containing each number doubled using list comprehension.\n",
        "def double_numbers(integers):\n",
        "  return[i*2 for i in integers]\n",
        "integers=[1,2,3,4,5,6,7,8,9,10]\n",
        "print(double_numbers(integers))"
      ],
      "metadata": {
        "colab": {
          "base_uri": "https://localhost:8080/"
        },
        "id": "0ERR8_O4vJnl",
        "outputId": "9b535af1-ce31-4130-ce2b-217c2ac24c41"
      },
      "execution_count": null,
      "outputs": [
        {
          "output_type": "stream",
          "name": "stdout",
          "text": [
            "[2, 4, 6, 8, 10, 12, 14, 16, 18, 20]\n"
          ]
        }
      ]
    },
    {
      "cell_type": "code",
      "source": [
        "#31-write a function increment_elements that takes a list of integers and returs new list where each element is incremented by 1 using the map function and lambda expression.\n",
        "def increment_element(integers):\n",
        "  return list(map(lambda x:x+1 ,integers))\n",
        "integers=[12,13,14,15,16]\n",
        "print(increment_element(integers))"
      ],
      "metadata": {
        "id": "3jpxZjvpwSAy",
        "colab": {
          "base_uri": "https://localhost:8080/"
        },
        "outputId": "814fb084-4143-4e62-b42c-61177dcb0686"
      },
      "execution_count": null,
      "outputs": [
        {
          "output_type": "stream",
          "name": "stdout",
          "text": [
            "[13, 14, 15, 16, 17]\n"
          ]
        }
      ]
    },
    {
      "cell_type": "code",
      "source": [
        "#32-write a function remove_elements that takes a list of integers an integer n,and returns new list with all occurences of n from the original list.\n",
        "def remove_elements(integers,n):\n",
        "  return[i for i in integers if i!=n]\n",
        "integers=[1,2,3,4,5,6,7,8,9,10,3,]\n",
        "n=3\n",
        "print(remove_elements(integers,n))\n",
        "\n"
      ],
      "metadata": {
        "id": "7vpn7nBNxued",
        "colab": {
          "base_uri": "https://localhost:8080/"
        },
        "outputId": "19f0751b-c5f1-44f5-a3f3-a39b29ce516e"
      },
      "execution_count": null,
      "outputs": [
        {
          "output_type": "stream",
          "name": "stdout",
          "text": [
            "[1, 2, 4, 5, 6, 7, 8, 9, 10]\n"
          ]
        }
      ]
    },
    {
      "cell_type": "code",
      "source": [
        "#33-write a function remove_duplicates that takes a list and returns a new list with duplicate elements removed.\n",
        "def remove_duplicates(numbers):\n",
        "  return list(set(numbers))\n",
        "numbers=[1,2,3,4,5,3,4]\n",
        "print(remove_duplicates(numbers))\n",
        "\n",
        "\n",
        "\n"
      ],
      "metadata": {
        "colab": {
          "base_uri": "https://localhost:8080/"
        },
        "id": "Sbei-Ii-33Ww",
        "outputId": "0fcafbb9-26ba-47b3-86bc-9ac07b30cfd9"
      },
      "execution_count": null,
      "outputs": [
        {
          "output_type": "stream",
          "name": "stdout",
          "text": [
            "[1, 2, 3, 4, 5]\n"
          ]
        }
      ]
    },
    {
      "cell_type": "markdown",
      "source": [
        "in this function,set function is used to remove duplicate elements from the list ,as sets do not allow duplicate elements.the list function converts the set back into a list."
      ],
      "metadata": {
        "id": "-mUoxLGW9zrg"
      }
    },
    {
      "cell_type": "code",
      "source": [
        "#34-write a function count-words that takes a list of string and returns new list containing the words that occur more than twice without using the counter class.\n",
        "\n",
        "words=[\"apple\",\"banana\",\"apple\",\"orange\",\"banana\",\"apple\",\"mango\"]\n",
        "words_count={}\n",
        "\n",
        "for word in words:\n",
        "  if word in words_count:\n",
        "    words_count[word]+=1\n",
        "  else:\n",
        "    words_count[word]=1\n",
        "print(words_count)\n",
        "\n",
        "result=[]\n",
        "for i,j in words_count.items():\n",
        "  if j>=2:\n",
        "    result.append(i)\n",
        "print(result)\n"
      ],
      "metadata": {
        "id": "7Bll_0gU-aMg",
        "colab": {
          "base_uri": "https://localhost:8080/"
        },
        "outputId": "bc684ffc-2206-4a4b-c952-e02913bc6ee9"
      },
      "execution_count": null,
      "outputs": [
        {
          "output_type": "stream",
          "name": "stdout",
          "text": [
            "{'apple': 3, 'banana': 2, 'orange': 1, 'mango': 1}\n",
            "['apple', 'banana']\n"
          ]
        }
      ]
    },
    {
      "cell_type": "code",
      "source": [
        "#in function:\n",
        "\n",
        "def count_words(words):\n",
        "  words_count={}\n",
        "\n",
        "  for word in words:\n",
        "    if word in words_count:\n",
        "      words_count[word]+=1\n",
        "    else:\n",
        "      words_count[word]=1\n",
        "\n",
        "    result=[]\n",
        "\n",
        "  for i,j in words_count.items():\n",
        "      if j>=2:\n",
        "        result.append(i)\n",
        "  return result\n",
        "\n",
        "words=[\"apple\",\"banana\",\"apple\",\"orange\",\"apple\",\"orange\",\"banana\"]\n",
        "count_words(words)"
      ],
      "metadata": {
        "colab": {
          "base_uri": "https://localhost:8080/"
        },
        "id": "nLNCBc9asjT4",
        "outputId": "24f8b58c-cece-41b9-adae-8902697a337e"
      },
      "execution_count": null,
      "outputs": [
        {
          "output_type": "execute_result",
          "data": {
            "text/plain": [
              "['apple', 'banana', 'orange']"
            ]
          },
          "metadata": {},
          "execution_count": 2
        }
      ]
    },
    {
      "cell_type": "code",
      "source": [
        "#35-write a function count_alphabet_occurances that takes a list of words and returns a dictionary where the keys are alphabetic characters and the values are the number of times each character appears across all the words in the list.\n",
        "def count_alphabet_occurances(words):\n",
        "  char_count={}\n",
        "  for word in words:\n",
        "    for char in word:\n",
        "      if char.isalpha():\n",
        "        char=char.lower()\n",
        "        if char in char_count:\n",
        "          char_count[char]+=1\n",
        "        else:\n",
        "          char_count[char]=1\n",
        "  return char_count\n",
        "\n",
        "words=[\"fabina\",\"femina\",\"hiba\",\"dhilfa\"]\n",
        "result=count_alphabet_occurances(words)\n",
        "print(result)\n",
        "\n"
      ],
      "metadata": {
        "id": "fOzYHgrA_FT0",
        "colab": {
          "base_uri": "https://localhost:8080/"
        },
        "outputId": "405ef8b3-8f8b-40e9-ed04-9b7eb96b26ad"
      },
      "execution_count": null,
      "outputs": [
        {
          "output_type": "stream",
          "name": "stdout",
          "text": [
            "{'f': 3, 'a': 5, 'b': 2, 'i': 4, 'n': 2, 'e': 1, 'm': 1, 'h': 2, 'd': 1, 'l': 1}\n"
          ]
        }
      ]
    },
    {
      "cell_type": "code",
      "source": [
        "#36-write a function flatten_list that takes a list of lists and returns a single list containing all the elements from the nested list.\n",
        "def flatten_list(nested_list):\n",
        "  return[item for sublist in nested_list for item in sublist]\n",
        "nested_list=[[1,2,3],[4,5],[6,7,8,9]]\n",
        "flat_list=flatten_list(nested_list)\n",
        "print(flat_list)\n",
        "\n"
      ],
      "metadata": {
        "id": "5At_yODm_2lg",
        "colab": {
          "base_uri": "https://localhost:8080/"
        },
        "outputId": "0b9dad8d-8c5e-49f7-8dd5-71aec81a89c5"
      },
      "execution_count": null,
      "outputs": [
        {
          "output_type": "stream",
          "name": "stdout",
          "text": [
            "[1, 2, 3, 4, 5, 6, 7, 8, 9]\n"
          ]
        }
      ]
    }
  ]
}